{
 "cells": [
  {
   "cell_type": "markdown",
   "metadata": {},
   "source": [
    "Parts of this assignment will be **automatically graded**. Please take note of the following:\n",
    "- Before you turn this problem in, make sure everything runs as expected. First, **restart the kernel** (in the menubar, select Kernel$\\rightarrow$Restart) and then **run all cells** (in the menubar, select Cell$\\rightarrow$Run All).\n",
    "- You can add additional cells, but it is not recommended to (re)move cells. Cells required for autograding cannot be moved and cells containing tests cannot be edited.\n",
    "- You are allowed to use a service such as [Google Colaboratory](https://colab.research.google.com/) to work together. However, you **cannot** hand in the notebook that was hosted on Google Colaboratory, but you need to copy your answers into the original notebook and verify that it runs succesfully offline. This is because Google Colaboratory destroys the metadata required for grading.\n",
    "- Name your notebook **exactly** `{TA_name}_{student1_id}_{student2_id}_lab{i}.ipynb`, for example `wouter_12345_67890_lab1.ipynb` (or tim|elise|david|qi, depending on your TA), **otherwise your submission will be skipped by our regex and you will get 0 points** (but no penalty as we cannot parse your student ids ;)).\n",
    "\n",
    "Make sure you fill in any place that says `YOUR CODE HERE` or \"YOUR ANSWER HERE\", as well as your names below:"
   ]
  },
  {
   "cell_type": "code",
   "execution_count": 1,
   "metadata": {},
   "outputs": [],
   "source": [
    "NAMES = [\"Andrei\",\"Henning\"]"
   ]
  },
  {
   "cell_type": "markdown",
   "metadata": {},
   "source": [
    "---"
   ]
  },
  {
   "cell_type": "code",
   "execution_count": 2,
   "metadata": {
    "deletable": false,
    "editable": false,
    "nbgrader": {
     "checksum": "4eed621d3748a44866956caa0de5247b",
     "grade": false,
     "grade_id": "cell-fc69f22067705372",
     "locked": true,
     "schema_version": 1,
     "solution": false
    }
   },
   "outputs": [],
   "source": [
    "import numpy as np\n",
    "import matplotlib.pyplot as plt\n",
    "import sys\n",
    "from tqdm import tqdm as _tqdm\n",
    "\n",
    "def tqdm(*args, **kwargs):\n",
    "    return _tqdm(*args, **kwargs, mininterval=1)  # Safety, do not overflow buffer\n",
    "\n",
    "%matplotlib inline\n",
    "\n",
    "assert sys.version_info[:3] >= (3, 6, 0), \"Make sure you have Python 3.6 installed!\""
   ]
  },
  {
   "cell_type": "markdown",
   "metadata": {
    "deletable": false,
    "editable": false,
    "nbgrader": {
     "checksum": "bab7b3976d6730a0739fd462766b1d42",
     "grade": false,
     "grade_id": "cell-9ebb0d5b306dbdea",
     "locked": true,
     "schema_version": 1,
     "solution": false
    }
   },
   "source": [
    "---\n",
    "## 1. Policy Evaluation (1 point)"
   ]
  },
  {
   "cell_type": "markdown",
   "metadata": {
    "deletable": false,
    "editable": false,
    "nbgrader": {
     "checksum": "8d010aef9b5b288e694006a2aefe67e0",
     "grade": false,
     "grade_id": "cell-1078e8f0b90517ce",
     "locked": true,
     "schema_version": 1,
     "solution": false
    }
   },
   "source": [
    "In this exercise we will evaluate a policy, e.g. find the value function for a policy. The problem we consider is the gridworld from Example 4.1 in the book. The environment is implemented as `GridworldEnv`, which is a subclass of the `Env` class from [OpenAI Gym](https://github.com/openai/gym). This means that we can interact with the environment. We can look at the documentation to see how we can interact with the environment."
   ]
  },
  {
   "cell_type": "code",
   "execution_count": 3,
   "metadata": {
    "deletable": false,
    "editable": false,
    "nbgrader": {
     "checksum": "990081b68602e7e0c46f2edeab0fcb53",
     "grade": false,
     "grade_id": "cell-de586c5ac92d8d74",
     "locked": true,
     "schema_version": 1,
     "solution": false
    }
   },
   "outputs": [],
   "source": [
    "from gridworld import GridworldEnv\n",
    "env = GridworldEnv()\n",
    "# Lets see what this is\n",
    "?env"
   ]
  },
  {
   "cell_type": "markdown",
   "metadata": {},
   "source": [
    "T  o  o  o\n",
    "\n",
    "o  x  o  o\n",
    "\n",
    "o  o  o  o\n",
    "\n",
    "o  o  o  T\n",
    "\n",
    "x is your position and T are the two terminal states.\n",
    "\n",
    "You can take actions in each direction (UP=0, RIGHT=1, DOWN=2, LEFT=3).\n",
    "Actions going off the edge leave you in your current state.\n",
    "You receive a reward of -1 at each step until you reach a terminal state."
   ]
  },
  {
   "cell_type": "code",
   "execution_count": 4,
   "metadata": {
    "deletable": false,
    "editable": false,
    "nbgrader": {
     "checksum": "814f4db75653991276d29ebff9d6ae37",
     "grade": false,
     "grade_id": "cell-b3a84dfb0e66a0c0",
     "locked": true,
     "schema_version": 1,
     "solution": false
    }
   },
   "outputs": [],
   "source": [
    "# To have a quick look into the code\n",
    "??env"
   ]
  },
  {
   "cell_type": "markdown",
   "metadata": {
    "deletable": false,
    "editable": false,
    "nbgrader": {
     "checksum": "fe850a3b9a1be42ae79b895d206ac3b6",
     "grade": false,
     "grade_id": "cell-b2162d776f0c2014",
     "locked": true,
     "schema_version": 1,
     "solution": false
    }
   },
   "source": [
    "Now we want to evaluate a policy by using Dynamic Programming. For more information, see the [Intro to RL](https://drive.google.com/open?id=1opPSz5AZ_kVa1uWOdOiveNiBFiEOHjkG) book, section 4.1. This algorithm requires knowledge of the problem dynamics in the form of the transition probabilities $p(s',r|s,a)$. In general these are not available, but for our gridworld we know the dynamics and these can be accessed as `env.P`."
   ]
  },
  {
   "cell_type": "code",
   "execution_count": 5,
   "metadata": {},
   "outputs": [
    {
     "data": {
      "text/plain": [
       "{0: {0: [(1.0, 0, 0.0, True)],\n",
       "  1: [(1.0, 0, 0.0, True)],\n",
       "  2: [(1.0, 0, 0.0, True)],\n",
       "  3: [(1.0, 0, 0.0, True)]},\n",
       " 1: {0: [(1.0, 1, -1.0, False)],\n",
       "  1: [(1.0, 2, -1.0, False)],\n",
       "  2: [(1.0, 5, -1.0, False)],\n",
       "  3: [(1.0, 0, -1.0, True)]},\n",
       " 2: {0: [(1.0, 2, -1.0, False)],\n",
       "  1: [(1.0, 3, -1.0, False)],\n",
       "  2: [(1.0, 6, -1.0, False)],\n",
       "  3: [(1.0, 1, -1.0, False)]},\n",
       " 3: {0: [(1.0, 3, -1.0, False)],\n",
       "  1: [(1.0, 3, -1.0, False)],\n",
       "  2: [(1.0, 7, -1.0, False)],\n",
       "  3: [(1.0, 2, -1.0, False)]},\n",
       " 4: {0: [(1.0, 0, -1.0, True)],\n",
       "  1: [(1.0, 5, -1.0, False)],\n",
       "  2: [(1.0, 8, -1.0, False)],\n",
       "  3: [(1.0, 4, -1.0, False)]},\n",
       " 5: {0: [(1.0, 1, -1.0, False)],\n",
       "  1: [(1.0, 6, -1.0, False)],\n",
       "  2: [(1.0, 9, -1.0, False)],\n",
       "  3: [(1.0, 4, -1.0, False)]},\n",
       " 6: {0: [(1.0, 2, -1.0, False)],\n",
       "  1: [(1.0, 7, -1.0, False)],\n",
       "  2: [(1.0, 10, -1.0, False)],\n",
       "  3: [(1.0, 5, -1.0, False)]},\n",
       " 7: {0: [(1.0, 3, -1.0, False)],\n",
       "  1: [(1.0, 7, -1.0, False)],\n",
       "  2: [(1.0, 11, -1.0, False)],\n",
       "  3: [(1.0, 6, -1.0, False)]},\n",
       " 8: {0: [(1.0, 4, -1.0, False)],\n",
       "  1: [(1.0, 9, -1.0, False)],\n",
       "  2: [(1.0, 12, -1.0, False)],\n",
       "  3: [(1.0, 8, -1.0, False)]},\n",
       " 9: {0: [(1.0, 5, -1.0, False)],\n",
       "  1: [(1.0, 10, -1.0, False)],\n",
       "  2: [(1.0, 13, -1.0, False)],\n",
       "  3: [(1.0, 8, -1.0, False)]},\n",
       " 10: {0: [(1.0, 6, -1.0, False)],\n",
       "  1: [(1.0, 11, -1.0, False)],\n",
       "  2: [(1.0, 14, -1.0, False)],\n",
       "  3: [(1.0, 9, -1.0, False)]},\n",
       " 11: {0: [(1.0, 7, -1.0, False)],\n",
       "  1: [(1.0, 11, -1.0, False)],\n",
       "  2: [(1.0, 15, -1.0, True)],\n",
       "  3: [(1.0, 10, -1.0, False)]},\n",
       " 12: {0: [(1.0, 8, -1.0, False)],\n",
       "  1: [(1.0, 13, -1.0, False)],\n",
       "  2: [(1.0, 12, -1.0, False)],\n",
       "  3: [(1.0, 12, -1.0, False)]},\n",
       " 13: {0: [(1.0, 9, -1.0, False)],\n",
       "  1: [(1.0, 14, -1.0, False)],\n",
       "  2: [(1.0, 13, -1.0, False)],\n",
       "  3: [(1.0, 12, -1.0, False)]},\n",
       " 14: {0: [(1.0, 10, -1.0, False)],\n",
       "  1: [(1.0, 15, -1.0, True)],\n",
       "  2: [(1.0, 14, -1.0, False)],\n",
       "  3: [(1.0, 13, -1.0, False)]},\n",
       " 15: {0: [(1.0, 15, 0.0, True)],\n",
       "  1: [(1.0, 15, 0.0, True)],\n",
       "  2: [(1.0, 15, 0.0, True)],\n",
       "  3: [(1.0, 15, 0.0, True)]}}"
      ]
     },
     "execution_count": 5,
     "metadata": {},
     "output_type": "execute_result"
    }
   ],
   "source": [
    "# Take a moment to figure out what P represents. \n",
    "# Note that this is a deterministic environment. \n",
    "# What would a stochastic environment look like?\n",
    "env.P"
   ]
  },
  {
   "cell_type": "markdown",
   "metadata": {},
   "source": [
    "In env.P we store the model with all containing transitions, rewards and a flag if a terminal state is reached. \n",
    "Each entry can consists of: \n",
    "num_state : {action: [transition_prob, next_state, reward, terminal_state]}\n",
    "\n",
    "The states are numbered from 0 to 15, starting at the top left. Both state 0 and 15 are terminal states where a transition yield a reward of +10. Transition to a non-terminal state yield a return of -1. The transition probability is always 1 since we're following a deterministic policy. For a stochastic policy, the probability of a chosen action to transition to another state would lie in p = [0,1] and more than one possible next state would be possible. "
   ]
  },
  {
   "cell_type": "code",
   "execution_count": 6,
   "metadata": {
    "deletable": false,
    "nbgrader": {
     "checksum": "d2d2b829d45d264cf8a6194dc8ccc132",
     "grade": false,
     "grade_id": "cell-209a484040bd874f",
     "locked": false,
     "schema_version": 1,
     "solution": true
    }
   },
   "outputs": [],
   "source": [
    "def policy_eval(policy, env, discount_factor=1.0, theta=0.00001):\n",
    "    \"\"\"\n",
    "    Evaluate a policy given an environment and a full description of the environment's dynamics.\n",
    "    \n",
    "    Args:\n",
    "        policy: [S, A] shaped matrix representing the policy.\n",
    "        env: OpenAI env. env.P represents the transition probabilities of the environment.\n",
    "            env.P[s][a] is a list of transition tuples (prob, next_state, reward, done).\n",
    "            env.nS is a number of states in the environment. \n",
    "            env.nA is a number of actions in the environment.\n",
    "        theta: We stop evaluation once our value function change is less than theta for all states.\n",
    "        discount_factor: Gamma discount factor.\n",
    "    \n",
    "    Returns:\n",
    "        Vector of length env.nS representing the value function.\n",
    "    \"\"\"\n",
    "    # Start with a random (all 0) value function\n",
    "    V = np.zeros(env.nS)\n",
    "    while True:\n",
    "        # YOUR CODE HERE\n",
    "        dev = 0 #estimation acc\n",
    "        for s in range(env.nS):\n",
    "            v_new = 0\n",
    "            for a in range(env.nA):\n",
    "                action_val = 0\n",
    "                for (prob, next_state, reward, done) in env.P[s][a]:\n",
    "                    action_val += prob*(reward + discount_factor*V[next_state])\n",
    "                v_new += policy[s,a]*action_val               \n",
    "            dev = np.max([dev, abs(v_new - V[s])])\n",
    "            V[s] = v_new #replace old value\n",
    "        if dev < theta:\n",
    "            break\n",
    "                \n",
    "    return np.array(V)"
   ]
  },
  {
   "cell_type": "code",
   "execution_count": 7,
   "metadata": {},
   "outputs": [
    {
     "data": {
      "text/plain": [
       "array([0.25, 0.25, 0.25, 0.25])"
      ]
     },
     "execution_count": 7,
     "metadata": {},
     "output_type": "execute_result"
    }
   ],
   "source": [
    "random_policy = np.ones([env.nS, env.nA]) / env.nA\n",
    "random_policy[3]"
   ]
  },
  {
   "cell_type": "code",
   "execution_count": 8,
   "metadata": {},
   "outputs": [
    {
     "data": {
      "text/plain": [
       "array([  0.        , -13.99993529, -19.99990698, -21.99989761,\n",
       "       -13.99993529, -17.9999206 , -19.99991379, -19.99991477,\n",
       "       -19.99990698, -19.99991379, -17.99992725, -13.99994569,\n",
       "       -21.99989761, -19.99991477, -13.99994569,   0.        ])"
      ]
     },
     "execution_count": 8,
     "metadata": {},
     "output_type": "execute_result"
    }
   ],
   "source": [
    "# Let's run your code, does it make sense?\n",
    "random_policy = np.ones([env.nS, env.nA]) / env.nA\n",
    "V = policy_eval(random_policy, env)\n",
    "V"
   ]
  },
  {
   "cell_type": "code",
   "execution_count": 9,
   "metadata": {},
   "outputs": [
    {
     "data": {
      "image/png": "[encoded data removed]",
      "text/plain": [
       "<Figure size 432x288 with 2 Axes>"
      ]
     },
     "metadata": {
      "needs_background": "light"
     },
     "output_type": "display_data"
    }
   ],
   "source": [
    "def plot_gridworld_value(V):\n",
    "    plt.figure()\n",
    "    c = plt.pcolormesh(V, cmap='gray')\n",
    "    plt.colorbar(c)\n",
    "    plt.gca().invert_yaxis()  # In the array, first row = 0 is on top\n",
    "\n",
    "# Making a plot always helps\n",
    "plot_gridworld_value(V.reshape(env.shape))"
   ]
  },
  {
   "cell_type": "code",
   "execution_count": 10,
   "metadata": {
    "deletable": false,
    "editable": false,
    "nbgrader": {
     "checksum": "5d879d65fc89af254883e1b68234e76e",
     "grade": true,
     "grade_id": "cell-b5c9d69b1731aff5",
     "locked": true,
     "points": 1,
     "schema_version": 1,
     "solution": false
    }
   },
   "outputs": [],
   "source": [
    "# Test: When you hand in the nodebook we will check that the value function is (approximately) what we expected\n",
    "# but we need to make sure it is at least of the correct shape\n",
    "v = policy_eval(random_policy, env)\n",
    "assert v.shape == (env.nS)"
   ]
  },
  {
   "cell_type": "markdown",
   "metadata": {
    "deletable": false,
    "editable": false,
    "nbgrader": {
     "checksum": "863ed58baecbbb4923162f40084e870d",
     "grade": false,
     "grade_id": "cell-b680e98c9ff204b8",
     "locked": true,
     "schema_version": 1,
     "solution": false
    }
   },
   "source": [
    "---\n",
    "## 2. Policy Iteration (2 points)\n",
    "Using the policy evaluation algorithm we can implement policy iteration to find a good policy for this problem. Note that we do not need to use a discount_factor for episodic tasks but make sure your implementation can handle this correctly!"
   ]
  },
  {
   "cell_type": "code",
   "execution_count": 11,
   "metadata": {
    "deletable": false,
    "nbgrader": {
     "checksum": "cfa494b2b437f9007f6b29b1ed5e0f78",
     "grade": false,
     "grade_id": "cell-383c54749617512c",
     "locked": false,
     "schema_version": 1,
     "solution": true
    }
   },
   "outputs": [],
   "source": [
    "def policy_improvement(env, discount_factor=1.0):\n",
    "    \"\"\"\n",
    "    Policy Improvement Algorithm. Iteratively evaluates and improves a policy\n",
    "    until an optimal policy is found.\n",
    "    \n",
    "    Args:\n",
    "        env: The OpenAI envrionment.\n",
    "        policy_eval_fn: Policy Evaluation function that takes 3 arguments:\n",
    "            policy, env, discount_factor.\n",
    "        discount_factor: gamma discount factor.\n",
    "        \n",
    "    Returns:\n",
    "        A tuple (policy, V). \n",
    "        policy is the optimal policy, a matrix of shape [S, A] where each state s\n",
    "        contains a valid probability distribution over actions.\n",
    "        V is the value function for the optimal policy.\n",
    "        \n",
    "    \"\"\"\n",
    "    # Start with a random policy\n",
    "    policy = np.ones([env.nS, env.nA]) / env.nA\n",
    "    \n",
    "    while True:\n",
    "        \n",
    "        V = policy_eval(policy, env, discount_factor)\n",
    "        \n",
    "        # YOUR CODE HERE\n",
    "        policy_stable = True\n",
    "        for s in range(env.nS):\n",
    "            #old_action = np.argmax(policy[s])\n",
    "            action_values = np.zeros([env.nA]) #init action values\n",
    "            for a in range(env.nA):\n",
    "                action_val = 0\n",
    "                for (prob, next_state, reward, done) in env.P[s][a]:\n",
    "                    action_val += prob*(reward + discount_factor*V[next_state])\n",
    "                action_values[a] = action_val\n",
    "            best_action = np.argmax(action_values)\n",
    "\n",
    "            if policy[s, best_action] != 1:\n",
    "            #if old_action != best_action:\n",
    "                #update policy\n",
    "                policy[s] = np.zeros([env.nA])\n",
    "                policy[s, best_action] = 1\n",
    "                policy_stable = False\n",
    "        \n",
    "        if policy_stable:\n",
    "            break\n",
    "    \n",
    "    return policy, V"
   ]
  },
  {
   "cell_type": "code",
   "execution_count": 12,
   "metadata": {
    "deletable": false,
    "editable": false,
    "nbgrader": {
     "checksum": "c4ab9c8d01a5902c276a3fbfbcc89e01",
     "grade": true,
     "grade_id": "cell-8c62e92d1f34720b",
     "locked": true,
     "points": 1,
     "schema_version": 1,
     "solution": false
    }
   },
   "outputs": [
    {
     "name": "stdout",
     "output_type": "stream",
     "text": [
      "Policy Probability Distribution:\n",
      "[[1. 0. 0. 0.]\n",
      " [0. 0. 0. 1.]\n",
      " [0. 0. 0. 1.]\n",
      " [0. 0. 1. 0.]\n",
      " [1. 0. 0. 0.]\n",
      " [1. 0. 0. 0.]\n",
      " [1. 0. 0. 0.]\n",
      " [0. 0. 1. 0.]\n",
      " [1. 0. 0. 0.]\n",
      " [1. 0. 0. 0.]\n",
      " [0. 1. 0. 0.]\n",
      " [0. 0. 1. 0.]\n",
      " [1. 0. 0. 0.]\n",
      " [0. 1. 0. 0.]\n",
      " [0. 1. 0. 0.]\n",
      " [1. 0. 0. 0.]]\n",
      "\n",
      "Reshaped Grid Policy (0=up, 1=right, 2=down, 3=left):\n",
      "[[0 3 3 2]\n",
      " [0 0 0 2]\n",
      " [0 0 1 2]\n",
      " [0 1 1 0]]\n",
      "^<<v\n",
      "^^^v\n",
      "^^>v\n",
      "^>>^\n",
      "\n",
      "Value Function:\n",
      "[ 0. -1. -2. -3. -1. -2. -3. -2. -2. -3. -2. -1. -3. -2. -1.  0.]\n",
      "\n",
      "Reshaped Grid Value Function:\n",
      "[[ 0. -1. -2. -3.]\n",
      " [-1. -2. -3. -2.]\n",
      " [-2. -3. -2. -1.]\n",
      " [-3. -2. -1.  0.]]\n",
      "\n"
     ]
    },
    {
     "data": {
      "image/png": "[encoded data removed]",
      "text/plain": [
       "<Figure size 432x288 with 2 Axes>"
      ]
     },
     "metadata": {
      "needs_background": "light"
     },
     "output_type": "display_data"
    }
   ],
   "source": [
    "# Let's see what it does\n",
    "policy, v = policy_improvement(env)\n",
    "print(\"Policy Probability Distribution:\")\n",
    "print(policy)\n",
    "print(\"\")\n",
    "\n",
    "def print_grid_policy(policy, symbols=[\"^\", \">\", \"v\", \"<\"]):\n",
    "    symbols = np.array(symbols)\n",
    "    for row in policy:\n",
    "        print(\"\".join(symbols[row]))\n",
    "\n",
    "print(\"Reshaped Grid Policy (0=up, 1=right, 2=down, 3=left):\")\n",
    "print(np.reshape(np.argmax(policy, axis=1), env.shape))\n",
    "print_grid_policy(np.reshape(np.argmax(policy, axis=1), env.shape))\n",
    "print(\"\")\n",
    "\n",
    "print(\"Value Function:\")\n",
    "print(v)\n",
    "print(\"\")\n",
    "\n",
    "print(\"Reshaped Grid Value Function:\")\n",
    "print(v.reshape(env.shape))\n",
    "print(\"\")\n",
    "\n",
    "plot_gridworld_value(v.reshape(env.shape))"
   ]
  },
  {
   "cell_type": "code",
   "execution_count": 13,
   "metadata": {
    "deletable": false,
    "editable": false,
    "nbgrader": {
     "checksum": "eee712b931eb830cb89792ef30675558",
     "grade": true,
     "grade_id": "cell-695dc14dbc6a8f95",
     "locked": true,
     "points": 1,
     "schema_version": 1,
     "solution": false
    }
   },
   "outputs": [],
   "source": [
    "# This is not an empty cell. It is needed for grading."
   ]
  },
  {
   "cell_type": "markdown",
   "metadata": {
    "deletable": false,
    "editable": false,
    "nbgrader": {
     "checksum": "c926edcbca292c79812c5b27eab63108",
     "grade": false,
     "grade_id": "cell-ceb755afcff43612",
     "locked": true,
     "schema_version": 1,
     "solution": false
    }
   },
   "source": [
    "---\n",
    "## 3. Value Iteration (3 points)\n",
    "Now implement the value iteration algorithm."
   ]
  },
  {
   "cell_type": "code",
   "execution_count": 14,
   "metadata": {
    "deletable": false,
    "nbgrader": {
     "checksum": "87f515e22f7ad0ea461271479dff3f5e",
     "grade": false,
     "grade_id": "cell-574fc5f6932fa4cc",
     "locked": false,
     "schema_version": 1,
     "solution": true
    }
   },
   "outputs": [],
   "source": [
    "def value_iteration(env, theta=0.0001, discount_factor=1.0):\n",
    "    \"\"\"\n",
    "    Value Iteration Algorithm.\n",
    "    \n",
    "    Args:\n",
    "        env: OpenAI env. env.P represents the transition probabilities of the environment.\n",
    "            env.P[s][a] is a list of transition tuples (prob, next_state, reward, done).\n",
    "            env.nS is a number of states in the environment. \n",
    "            env.nA is a number of actions in the environment.\n",
    "        theta: We stop evaluation once our value function change is less than theta for all states.\n",
    "        discount_factor: Gamma discount factor.\n",
    "        \n",
    "    Returns:\n",
    "        A tuple (policy, V) of the optimal policy and the optimal value function.        \n",
    "    \"\"\"\n",
    "    \n",
    "    V = np.zeros(env.nS)\n",
    "    policy = np.zeros([env.nS, env.nA])\n",
    "    \n",
    "    # Implement!\n",
    "    # YOUR CODE HERE\n",
    "    optimal_actions = np.zeros([env.nS])\n",
    "    #Compute optimal values and actions\n",
    "    while True:\n",
    "        dev = 0 #estimation acc\n",
    "        for s in range(env.nS):\n",
    "            v_old = V[s]\n",
    "            action_values = np.zeros([env.nA])\n",
    "            for a in range(env.nA):\n",
    "                action_val = 0\n",
    "                for (prob, next_state, reward, done) in env.P[s][a]:\n",
    "                    action_val += prob*(reward + discount_factor*V[next_state])\n",
    "                action_values[a] = action_val\n",
    "            V[s] = max(action_values)\n",
    "            optimal_actions[s] = np.argmax(action_values)\n",
    "            dev = max(dev, abs(v_old - V[s]))\n",
    "\n",
    "        if dev < theta:\n",
    "            break\n",
    "\n",
    "    #Define optimal policy by mapping optimal action to corresponding state\n",
    "    for s in range(env.nS):\n",
    "        policy[s] = np.zeros([env.nA])\n",
    "        a = int(optimal_actions[s])\n",
    "        policy[s, a] = 1\n",
    "    \n",
    "    return policy, V"
   ]
  },
  {
   "cell_type": "code",
   "execution_count": 15,
   "metadata": {
    "deletable": false,
    "editable": false,
    "nbgrader": {
     "checksum": "d103427f5b98a8957ad486243f98e64c",
     "grade": true,
     "grade_id": "cell-b82ed3adfeecc757",
     "locked": true,
     "points": 1,
     "schema_version": 1,
     "solution": false
    }
   },
   "outputs": [
    {
     "name": "stdout",
     "output_type": "stream",
     "text": [
      "Policy Probability Distribution:\n",
      "[[1. 0. 0. 0.]\n",
      " [0. 0. 0. 1.]\n",
      " [0. 0. 0. 1.]\n",
      " [0. 0. 1. 0.]\n",
      " [1. 0. 0. 0.]\n",
      " [1. 0. 0. 0.]\n",
      " [1. 0. 0. 0.]\n",
      " [0. 0. 1. 0.]\n",
      " [1. 0. 0. 0.]\n",
      " [1. 0. 0. 0.]\n",
      " [0. 1. 0. 0.]\n",
      " [0. 0. 1. 0.]\n",
      " [1. 0. 0. 0.]\n",
      " [0. 1. 0. 0.]\n",
      " [0. 1. 0. 0.]\n",
      " [1. 0. 0. 0.]]\n",
      "\n",
      "Reshaped Grid Policy (0=up, 1=right, 2=down, 3=left):\n",
      "[[0 3 3 2]\n",
      " [0 0 0 2]\n",
      " [0 0 1 2]\n",
      " [0 1 1 0]]\n",
      "^<<v\n",
      "^^^v\n",
      "^^>v\n",
      "^>>^\n",
      "\n",
      "Value Function:\n",
      "[ 0. -1. -2. -3. -1. -2. -3. -2. -2. -3. -2. -1. -3. -2. -1.  0.]\n",
      "\n",
      "Reshaped Grid Value Function:\n",
      "[[ 0. -1. -2. -3.]\n",
      " [-1. -2. -3. -2.]\n",
      " [-2. -3. -2. -1.]\n",
      " [-3. -2. -1.  0.]]\n",
      "\n"
     ]
    }
   ],
   "source": [
    "# Oh let's test again\n",
    "# Let's see what it does\n",
    "policy, v = value_iteration(env)\n",
    "print(\"Policy Probability Distribution:\")\n",
    "print(policy)\n",
    "print(\"\")\n",
    "\n",
    "print(\"Reshaped Grid Policy (0=up, 1=right, 2=down, 3=left):\")\n",
    "print(np.reshape(np.argmax(policy, axis=1), env.shape))\n",
    "print_grid_policy(np.reshape(np.argmax(policy, axis=1), env.shape))\n",
    "print(\"\")\n",
    "\n",
    "print(\"Value Function:\")\n",
    "print(v)\n",
    "print(\"\")\n",
    "\n",
    "print(\"Reshaped Grid Value Function:\")\n",
    "print(v.reshape(env.shape))\n",
    "print(\"\")\n"
   ]
  },
  {
   "cell_type": "markdown",
   "metadata": {
    "deletable": false,
    "editable": false,
    "nbgrader": {
     "checksum": "3add7d8b6101d0e3b6250b6bb064566c",
     "grade": false,
     "grade_id": "cell-ded21ac846e244a3",
     "locked": true,
     "schema_version": 1,
     "solution": false
    }
   },
   "source": [
    "What is the difference between value iteration and policy iteration? Which algorithm is most efficient (e.g. needs to perform the least *backup* operations)? Please answer *concisely* in the cell below."
   ]
  },
  {
   "cell_type": "markdown",
   "metadata": {
    "deletable": false,
    "nbgrader": {
     "checksum": "078f713af4c6bf3af8fb31b8da772758",
     "grade": true,
     "grade_id": "cell-940a8d8e21f18f69",
     "locked": false,
     "points": 2,
     "schema_version": 1,
     "solution": true
    }
   },
   "source": [
    "YOUR ANSWER HERE:\n",
    "In value iteration we combine policy evaluation and improvement by including the max operator and storing the the optimal action. Consequently, this allows us to cut off multiple sweeps of policy evaluation over the whole state space and increase efficiency of determining optimal value function and policy. "
   ]
  },
  {
   "cell_type": "markdown",
   "metadata": {
    "deletable": false,
    "editable": false,
    "nbgrader": {
     "checksum": "98ec4e85c09c116f6fe1658fa0451e33",
     "grade": false,
     "grade_id": "cell-7ab207a9f93cf4d3",
     "locked": true,
     "schema_version": 1,
     "solution": false
    }
   },
   "source": [
    "## 4. Monte Carlo Prediction (7 points)\n",
    "What is the difference between Dynamic Programming and Monte Carlo? When would you use the one or the other algorithm?"
   ]
  },
  {
   "cell_type": "markdown",
   "metadata": {
    "deletable": false,
    "nbgrader": {
     "checksum": "dba98a584a2d9c97735f96547ac7442a",
     "grade": true,
     "grade_id": "cell-74a904ed87b8e2cc",
     "locked": false,
     "points": 2,
     "schema_version": 1,
     "solution": true
    }
   },
   "source": [
    "YOUR ANSWER HERE: DP - width; MC - depth"
   ]
  },
  {
   "cell_type": "markdown",
   "metadata": {
    "deletable": false,
    "editable": false,
    "nbgrader": {
     "checksum": "0d826feda7dc9cab51ad9db8ccbdfadf",
     "grade": false,
     "grade_id": "cell-5f0c1d608436b67b",
     "locked": true,
     "schema_version": 1,
     "solution": false
    }
   },
   "source": [
    "For the Monte Carlo Prediction we will look at the Blackjack game (Example 5.1 from the book), for which the `BlackjackEnv` is implemented in `blackjack.py`. Note that compared to the gridworld, the state is no longer a single integer, which is why we use a dictionary to represent the value function instead of a numpy array. By using `defaultdict`, each state gets a default value of 0."
   ]
  },
  {
   "cell_type": "code",
   "execution_count": 16,
   "metadata": {
    "deletable": false,
    "editable": false,
    "nbgrader": {
     "checksum": "fb7a884505c5973aff2fe9998cc104e2",
     "grade": false,
     "grade_id": "cell-a342b69fcfdea5b2",
     "locked": true,
     "schema_version": 1,
     "solution": false
    }
   },
   "outputs": [],
   "source": [
    "from blackjack import BlackjackEnv\n",
    "env = BlackjackEnv()"
   ]
  },
  {
   "cell_type": "markdown",
   "metadata": {
    "deletable": false,
    "editable": false,
    "nbgrader": {
     "checksum": "26ae90f402b5de7d07f23e776a525c4b",
     "grade": false,
     "grade_id": "cell-7366692dee80c32c",
     "locked": true,
     "schema_version": 1,
     "solution": false
    }
   },
   "source": [
    "For the Monte Carlo algorithm, we need to *interact* with the environment. This means that we start an episode by using `env.reset` and send the environment actions via `env.step` to observe the reward and next observation (state)."
   ]
  },
  {
   "cell_type": "code",
   "execution_count": 17,
   "metadata": {
    "deletable": false,
    "editable": false,
    "nbgrader": {
     "checksum": "ef5fc8c121d400f2192646c9201e7769",
     "grade": false,
     "grade_id": "cell-85356add2643980e",
     "locked": true,
     "schema_version": 1,
     "solution": false
    }
   },
   "outputs": [],
   "source": [
    "# So let's have a look at what we can do in general with an environment...\n",
    "import gym\n",
    "?gym.Env"
   ]
  },
  {
   "cell_type": "code",
   "execution_count": 18,
   "metadata": {
    "deletable": false,
    "editable": false,
    "nbgrader": {
     "checksum": "0433c9161cddc2d9171c8e87b1e9b444",
     "grade": false,
     "grade_id": "cell-251b7b17c5d08a24",
     "locked": true,
     "schema_version": 1,
     "solution": false
    }
   },
   "outputs": [],
   "source": [
    "# We can also look at the documentation/implementation of a method\n",
    "?env.step"
   ]
  },
  {
   "cell_type": "code",
   "execution_count": 19,
   "metadata": {
    "deletable": false,
    "editable": false,
    "nbgrader": {
     "checksum": "42aceb4ea182a1aacfb40c5f201d4b01",
     "grade": false,
     "grade_id": "cell-6decb2ab83c5bcec",
     "locked": true,
     "schema_version": 1,
     "solution": false
    }
   },
   "outputs": [],
   "source": [
    "??BlackjackEnv"
   ]
  },
  {
   "cell_type": "markdown",
   "metadata": {
    "deletable": false,
    "editable": false,
    "nbgrader": {
     "checksum": "8fa896a9ea64567134c861511cfa6011",
     "grade": false,
     "grade_id": "cell-ae161126d3cb1b7b",
     "locked": true,
     "schema_version": 1,
     "solution": false
    }
   },
   "source": [
    "A very simple policy for Blackjack is to *stick* if we have 20 or 21 points and *hit* otherwise. We want to know how good this policy is. This policy is *deterministic* and therefore a function that maps an observation to a single action. Technically, we can implement this as a dictionary or as a function, where we use the latter. To get started, let's implement this simple policy for BlackJack."
   ]
  },
  {
   "cell_type": "code",
   "execution_count": 20,
   "metadata": {
    "deletable": false,
    "nbgrader": {
     "checksum": "cc1b192852416b81f96f0858f1389d67",
     "grade": false,
     "grade_id": "cell-9fdcb503df9cdb08",
     "locked": false,
     "schema_version": 1,
     "solution": true
    }
   },
   "outputs": [],
   "source": [
    "def simple_policy(observation):\n",
    "    \"\"\"\n",
    "    A policy that sticks if the player score is >= 20 and hits otherwise.\n",
    "    \"\"\"\n",
    "    # YOUR CODE HERE\n",
    "    cur_sum = observation[0]\n",
    "    if cur_sum >= 20:\n",
    "         return 0\n",
    "    else: \n",
    "        return 1"
   ]
  },
  {
   "cell_type": "code",
   "execution_count": 21,
   "metadata": {
    "deletable": false,
    "editable": false,
    "nbgrader": {
     "checksum": "bf04382f012b102f2c5c360bb8da3241",
     "grade": true,
     "grade_id": "cell-99f02e2d9b338a5b",
     "locked": true,
     "points": 1,
     "schema_version": 1,
     "solution": false
    }
   },
   "outputs": [
    {
     "name": "stdout",
     "output_type": "stream",
     "text": [
      "(21, 10, True)\n",
      "((21, 10, True), 0, True, {})\n"
     ]
    }
   ],
   "source": [
    "s = env.reset()\n",
    "print(s)\n",
    "a = simple_policy(s)\n",
    "print(env.step(a))"
   ]
  },
  {
   "cell_type": "markdown",
   "metadata": {
    "deletable": false,
    "editable": false,
    "nbgrader": {
     "checksum": "b5e33f6499dd4040071dc62a3e8fccb2",
     "grade": false,
     "grade_id": "cell-0184f4c719afb98c",
     "locked": true,
     "schema_version": 1,
     "solution": false
    }
   },
   "source": [
    "Now implement either the MC prediction algorithm (either first visit or every visit). Hint: you can use `for i in tqdm(range(num_episodes))` to show a progress bar."
   ]
  },
  {
   "cell_type": "code",
   "execution_count": 33,
   "metadata": {
    "deletable": false,
    "nbgrader": {
     "checksum": "a90a42914d0f7ade801bee9a8bd04e19",
     "grade": true,
     "grade_id": "cell-b822e9d13cf1f65e",
     "locked": false,
     "points": 2,
     "schema_version": 1,
     "solution": true
    }
   },
   "outputs": [],
   "source": [
    "from collections import defaultdict\n",
    "\n",
    "def mc_prediction(policy, env, num_episodes, discount_factor=1.0):\n",
    "    \"\"\"\n",
    "    Monte Carlo prediction algorithm. Calculates the value function\n",
    "    for a given policy using sampling.\n",
    "    \n",
    "    Args:\n",
    "        policy: A function that maps an observation to action probabilities.\n",
    "        env: OpenAI gym environment.\n",
    "        num_episodes: Number of episodes to sample.\n",
    "        discount_factor: Gamma discount factor.\n",
    "    \n",
    "    Returns:\n",
    "        A dictionary that maps from state -> value.\n",
    "        The state is a tuple and the value is a float.\n",
    "    \"\"\"\n",
    "\n",
    "    # Keeps track of sum and count of returns for each state\n",
    "    # to calculate an average. We could use an array to save all\n",
    "    # returns (like in the book) but that's memory inefficient.\n",
    "    returns_sum = defaultdict(float)\n",
    "    returns_count = defaultdict(float)\n",
    "    \n",
    "    # The final value function\n",
    "    V = defaultdict(float)\n",
    "    \n",
    "    # YOUR CODE HERE\n",
    "    for i in tqdm(range(num_episodes)):\n",
    "\n",
    "        episode = gen_episode(env, policy)\n",
    "            \n",
    "        #loop backwards over each step of the episode \n",
    "        G = 0\n",
    "        #print(\"eps length:{0}\".format(len(episode)))\n",
    "        for s in range(len(episode)-1, -1, -1):\n",
    "            obs, a, reward = episode[s]\n",
    "            G = G*discount_factor + reward #compute discounted returns\n",
    "                       \n",
    "            #every-visit: append returns if it's first visit to that state      \n",
    "            returns_sum[obs] += G\n",
    "            returns_count[obs] += 1\n",
    "\n",
    "    \n",
    "    for s in returns_sum:\n",
    "        V[s] = returns_sum[s] / returns_count[s]\n",
    "    \n",
    "    return V\n",
    "\n",
    "def gen_episode(env, policy):\n",
    "            #generate an episode\n",
    "            state = env.reset()\n",
    "            eps_done = False\n",
    "            episode = []\n",
    "            observations = []\n",
    "            while True:\n",
    "                a = policy(state)\n",
    "                (next_state, reward, done, _) = env.step(a)\n",
    "                episode.append((state, a, reward))\n",
    "                state = next_state\n",
    "                if done:\n",
    "                    return episode"
   ]
  },
  {
   "cell_type": "code",
   "execution_count": 34,
   "metadata": {},
   "outputs": [
    {
     "name": "stderr",
     "output_type": "stream",
     "text": [
      "100%|██████████| 1000/1000 [00:00<00:00, 14916.42it/s]"
     ]
    },
    {
     "name": "stdout",
     "output_type": "stream",
     "text": [
      "defaultdict(<class 'float'>, {(21, 8, False): 1.0, (15, 8, False): -0.3333333333333333, (20, 3, True): 0.5, (21, 6, False): 1.0, (16, 6, False): -0.3076923076923077, (19, 3, False): -0.8421052631578947, (15, 2, False): -0.6666666666666666, (13, 3, False): -1.0, (20, 2, False): 0.47058823529411764, (20, 5, False): 0.7647058823529411, (16, 1, False): -0.9230769230769231, (12, 1, False): -0.18181818181818182, (18, 4, False): -0.6666666666666666, (21, 10, False): 0.84, (18, 10, False): -0.7333333333333333, (16, 10, False): -0.5714285714285714, (15, 3, False): -1.0, (15, 3, True): 0.0, (19, 8, False): -1.0, (13, 8, False): -1.0, (17, 8, False): -0.75, (17, 6, False): -1.0, (20, 6, False): 0.5294117647058824, (14, 6, False): 0.0, (13, 7, False): -0.7777777777777778, (12, 10, False): -0.7714285714285715, (20, 10, True): 0.0, (18, 10, True): -0.6666666666666666, (19, 10, False): -0.6739130434782609, (19, 10, True): -0.5, (17, 10, True): -0.3333333333333333, (14, 10, True): -0.2, (14, 10, False): -0.6097560975609756, (14, 3, False): -0.6923076923076923, (21, 7, True): 0.6666666666666666, (14, 7, True): -0.16666666666666666, (14, 2, False): -0.6923076923076923, (20, 3, False): 0.47368421052631576, (12, 9, False): -0.5, (13, 10, False): -0.4594594594594595, (18, 6, False): -1.0, (13, 3, True): -1.0, (18, 3, False): -1.0, (16, 3, False): -0.5, (18, 7, False): -0.5384615384615384, (15, 10, False): -0.8, (20, 6, True): 0.0, (21, 5, False): 1.0, (18, 8, False): -0.7333333333333333, (20, 7, False): 0.6470588235294118, (12, 3, False): -0.3076923076923077, (19, 2, False): -0.7857142857142857, (17, 9, False): -0.75, (13, 9, False): -0.38461538461538464, (21, 7, False): 0.9, (19, 7, False): -0.8181818181818182, (15, 7, False): -0.7142857142857143, (20, 10, False): 0.38095238095238093, (17, 4, False): -0.6666666666666666, (17, 7, False): -0.7142857142857143, (12, 7, False): -0.6666666666666666, (16, 2, False): -0.6, (14, 1, False): -0.7777777777777778, (20, 8, False): 0.8, (16, 7, False): -0.8181818181818182, (16, 5, False): -0.7777777777777778, (16, 8, False): -1.0, (20, 9, False): 0.6875, (16, 9, False): 0.14285714285714285, (17, 10, False): -0.6944444444444444, (17, 9, True): -1.0, (16, 9, True): -0.3333333333333333, (21, 2, True): 0.8333333333333334, (15, 2, True): 1.0, (16, 10, True): -0.14285714285714285, (13, 10, True): 0.5, (14, 5, False): -0.625, (21, 3, False): 0.6666666666666666, (19, 9, False): -1.0, (15, 9, False): -0.42857142857142855, (19, 5, False): -0.5294117647058824, (13, 4, False): -0.6, (18, 9, False): -0.7777777777777778, (20, 1, False): 0.2, (15, 1, False): -0.25, (15, 6, False): -0.6363636363636364, (14, 8, False): -0.75, (17, 5, False): -1.0, (19, 4, False): -0.8, (21, 10, True): 0.9375, (21, 1, False): 0.6, (19, 9, True): -0.6, (18, 9, True): -1.0, (14, 4, False): 0.0, (17, 1, False): -0.8181818181818182, (12, 9, True): -1.0, (20, 2, True): 1.0, (13, 2, True): 0.0, (21, 8, True): 1.0, (13, 5, False): -0.7777777777777778, (12, 6, False): -0.7142857142857143, (20, 4, False): 0.6, (20, 9, True): 1.0, (12, 8, False): -0.6363636363636364, (14, 9, False): -1.0, (14, 9, True): -1.0, (12, 2, False): -0.75, (17, 3, False): -1.0, (12, 5, False): -0.6666666666666666, (15, 4, False): -0.125, (19, 4, True): -1.0, (14, 4, True): -1.0, (14, 7, False): -0.4, (13, 2, False): -0.4, (16, 4, False): -0.625, (19, 1, False): -0.8, (18, 2, False): -0.6363636363636364, (19, 8, True): -1.0, (21, 4, False): 1.0, (17, 4, True): 0.0, (17, 2, False): -0.6, (21, 5, True): 1.0, (12, 4, False): -1.0, (14, 2, True): 0.0, (13, 1, False): -0.5, (21, 9, True): 1.0, (21, 3, True): 0.6666666666666666, (21, 2, False): 0.8888888888888888, (15, 5, False): -0.2, (21, 1, True): 0.5, (20, 7, True): 1.0, (17, 7, True): 1.0, (15, 7, True): 0.0, (19, 3, True): -1.0, (17, 2, True): -1.0, (13, 1, True): -1.0, (18, 1, False): -0.6153846153846154, (18, 5, False): -0.5555555555555556, (17, 8, True): 1.0, (13, 6, False): -1.0, (15, 6, True): -1.0, (15, 9, True): 0.0, (18, 1, True): -1.0, (21, 9, False): 1.0, (12, 7, True): -0.3333333333333333, (18, 3, True): -1.0, (15, 5, True): 1.0, (13, 5, True): 1.0, (13, 6, True): -1.0, (21, 6, True): 1.0, (12, 5, True): -1.0, (17, 3, True): 0.0, (18, 5, True): 0.0, (15, 10, True): -1.0, (12, 10, True): -1.0, (19, 6, False): -0.6666666666666666, (19, 5, True): 1.0, (14, 5, True): 1.0, (18, 7, True): -1.0, (21, 4, True): 1.0, (19, 6, True): -1.0, (16, 8, True): 0.0, (15, 8, True): -1.0, (18, 8, True): -1.0, (19, 7, True): 0.0, (16, 6, True): -1.0, (12, 3, True): 1.0, (16, 1, True): -1.0, (15, 1, True): -1.0, (13, 9, True): -1.0, (16, 5, True): -1.0, (17, 5, True): 1.0, (19, 2, True): -1.0, (16, 2, True): -1.0, (20, 8, True): 1.0, (16, 7, True): -1.0})\n"
     ]
    },
    {
     "name": "stderr",
     "output_type": "stream",
     "text": [
      "\n"
     ]
    }
   ],
   "source": [
    "V = mc_prediction(simple_policy, env, num_episodes=1000)\n",
    "print(V)"
   ]
  },
  {
   "cell_type": "markdown",
   "metadata": {
    "deletable": false,
    "editable": false,
    "nbgrader": {
     "checksum": "65fb9d8060a4c843e72474169396eb3e",
     "grade": false,
     "grade_id": "cell-9d32f907f180c088",
     "locked": true,
     "schema_version": 1,
     "solution": false
    }
   },
   "source": [
    "Now make *4 plots* like Figure 5.1 in the book. You can either make 3D plots or heatmaps. Make sure that your results look similar to the results in the book. Give your plots appropriate titles, axis labels, etc."
   ]
  },
  {
   "cell_type": "code",
   "execution_count": 27,
   "metadata": {
    "deletable": false,
    "editable": false,
    "nbgrader": {
     "checksum": "8a4eee824f088a6c13ee8c9296af4561",
     "grade": false,
     "grade_id": "cell-cbaf4d6a0e4c00fa",
     "locked": true,
     "schema_version": 1,
     "solution": false
    }
   },
   "outputs": [
    {
     "name": "stderr",
     "output_type": "stream",
     "text": [
      "100%|██████████| 10000/10000 [00:00<00:00, 20889.89it/s]\n",
      "100%|██████████| 500000/500000 [00:25<00:00, 19763.41it/s]"
     ]
    },
    {
     "name": "stdout",
     "output_type": "stream",
     "text": [
      "CPU times: user 25.7 s, sys: 58.5 ms, total: 25.7 s\n",
      "Wall time: 25.8 s\n"
     ]
    },
    {
     "name": "stderr",
     "output_type": "stream",
     "text": [
      "\n"
     ]
    }
   ],
   "source": [
    "%%time\n",
    "# Let's run your code one time\n",
    "V_10k = mc_prediction(simple_policy, env, num_episodes=10000)\n",
    "V_500k = mc_prediction(simple_policy, env, num_episodes=500000)"
   ]
  },
  {
   "cell_type": "code",
   "execution_count": null,
   "metadata": {
    "deletable": false,
    "nbgrader": {
     "checksum": "84102d69cdad07cf0100d846346b65e6",
     "grade": true,
     "grade_id": "cell-ba046443478aa517",
     "locked": false,
     "points": 2,
     "schema_version": 1,
     "solution": true
    }
   },
   "outputs": [],
   "source": [
    "# YOUR CODE HERE\n",
    "raise NotImplementedError()"
   ]
  },
  {
   "cell_type": "markdown",
   "metadata": {
    "deletable": false,
    "editable": false,
    "nbgrader": {
     "checksum": "c1baa558731a1618d32691224e5b5780",
     "grade": false,
     "grade_id": "cell-a5cc039e3d648855",
     "locked": true,
     "schema_version": 1,
     "solution": false
    }
   },
   "source": [
    "## 5. Monte Carlo control with $\\epsilon$-greedy policy (5 points)\n",
    "Now we have a method to evaluate state-values given a policy. Take a moment to think whether we can use the value function to find a better policy? Assuming we do not know the dynamics of the environment, why is this not possible?\n",
    "\n",
    "We want a policy that selects _actions_ with maximum value, e.g. is _greedy_ with respect to the _action-value_ (or Q-value) function $Q(s,a)$. We need to keep exploring, so with probability $\\epsilon$ we will take a random action. First, lets implement a function `make_epsilon_greedy_policy` that takes the Q-value function and returns an $\\epsilon$-greedy policy. The policy itself is a function that returns an action."
   ]
  },
  {
   "cell_type": "code",
   "execution_count": 45,
   "metadata": {
    "deletable": false,
    "nbgrader": {
     "checksum": "f1469d08ccd4665219d42e03b709c690",
     "grade": true,
     "grade_id": "cell-78eff3f4ca0f0e09",
     "locked": false,
     "points": 1,
     "schema_version": 1,
     "solution": true
    }
   },
   "outputs": [],
   "source": [
    "def make_epsilon_greedy_policy(Q, epsilon, nA):\n",
    "    \"\"\"\n",
    "    Creates an epsilon-greedy policy based on a given Q-function and epsilon.\n",
    "    \n",
    "    Args:\n",
    "        Q: A dictionary that maps from state -> action-values.\n",
    "            Each value is a numpy array of length nA (see below)\n",
    "        epsilon: The probability to select a random action . float between 0 and 1.\n",
    "        nA: Number of actions in the environment.\n",
    "    \n",
    "    Returns:\n",
    "        A function that takes the observation as an argument and returns\n",
    "        an action according to the epsilon-greedy policy.\n",
    "    \n",
    "    \"\"\"\n",
    "    def policy_fn(observation):\n",
    "        # YOUR CODE HERE\n",
    "        best_action = np.argmax(Q[observation]) # determine best action\n",
    "        action_probs = np.array([epsilon]*nA) / nA # eps / nA probability for each action  (eps-soft policy)\n",
    "        action_probs[best_action] = 1 - epsilon + (epsilon / nA) # move towards greedy policy\n",
    "        return np.random.choice(nA, 1, p=action_probs).item() #choose from action pool given probabilities\n",
    "        \n",
    "        \n",
    "    return policy_fn"
   ]
  },
  {
   "cell_type": "code",
   "execution_count": 50,
   "metadata": {
    "deletable": false,
    "nbgrader": {
     "checksum": "12a7f4ab3c649a1d768ce80d4573cf28",
     "grade": true,
     "grade_id": "cell-2fc0baa87f31ab98",
     "locked": false,
     "points": 2,
     "schema_version": 1,
     "solution": true
    }
   },
   "outputs": [
    {
     "name": "stderr",
     "output_type": "stream",
     "text": [
      "\n",
      "  0%|          | 0/10000 [00:00<?, ?it/s]\u001b[A\n",
      " 85%|████████▍ | 8468/10000 [00:01<00:00, 8467.65it/s]\u001b[A\n",
      "100%|██████████| 10000/10000 [00:01<00:00, 8253.44it/s]\u001b[A"
     ]
    }
   ],
   "source": [
    "def mc_control_epsilon_greedy(env, num_episodes, discount_factor=1.0, epsilon=0.1):\n",
    "    \"\"\"\n",
    "    Monte Carlo Control using Epsilon-Greedy policies.\n",
    "    Finds an optimal epsilon-greedy policy.\n",
    "    \n",
    "    Args:\n",
    "        env: OpenAI gym environment.\n",
    "        num_episodes: Number of episodes to sample.\n",
    "        discount_factor: Gamma discount factor.\n",
    "        epsilon: Chance the sample a random action. Float betwen 0 and 1.\n",
    "    \n",
    "    Returns:\n",
    "        A tuple (Q, policy).\n",
    "        Q is a dictionary mapping state -> action values.\n",
    "        policy is a function that takes an observation as an argument and returns\n",
    "        action probabilities\n",
    "    \"\"\"\n",
    "    \n",
    "    # Again, keep track of counts for efficiency\n",
    "    # returns_sum, returns_count and Q are \n",
    "    # nested dictionaries that map state -> (action -> action-value).\n",
    "    # We could also use tuples (s, a) as keys in a 1d dictionary, but this\n",
    "    # way Q is in the format that works with make_epsilon_greedy_policy\n",
    "    \n",
    "    returns_sum = defaultdict(lambda: np.zeros(env.action_space.n))\n",
    "    returns_count = defaultdict(lambda: np.zeros(env.action_space.n, dtype=int))\n",
    "    \n",
    "    # The final action-value function.\n",
    "    Q = defaultdict(lambda: np.zeros(env.action_space.n))\n",
    "    \n",
    "    # The policy we're following\n",
    "    policy = make_epsilon_greedy_policy(Q, epsilon, env.action_space.n)\n",
    "    \n",
    "    # YOUR CODE HERE\n",
    "    for i in tqdm(range(num_episodes)):\n",
    "        episode = gen_episode(env, policy)\n",
    "        \n",
    "        #loop backwards over each step of the episode \n",
    "        G = 0\n",
    "        for s in range(len(episode)-1, -1, -1):\n",
    "            obs, a, reward = episode[s]\n",
    "            G = G*discount_factor + reward #compute discounted returns\n",
    "                       \n",
    "            #every-visit: append returns if it's first visit to that state      \n",
    "            returns_sum[obs][a] += G\n",
    "            returns_count[obs][a] += 1\n",
    "            Q[obs][a] = returns_sum[obs][a] / returns_count[obs][a]\n",
    "            #policy = make_epsilon_greedy_policy(Q, epsilon, env.action_space.n)\n",
    "    \n",
    "    return Q, policy\n",
    "\n",
    "# Test it quickly\n",
    "Q, policy = mc_control_epsilon_greedy(env, num_episodes=10000, epsilon=0.1)"
   ]
  },
  {
   "cell_type": "code",
   "execution_count": 52,
   "metadata": {},
   "outputs": [
    {
     "data": {
      "text/plain": [
       "defaultdict(<function __main__.mc_control_epsilon_greedy.<locals>.<lambda>()>,\n",
       "            {(18, 8, True): array([-1. ,  0.5]),\n",
       "             (20, 8, True): array([0.83333333, 0.33333333]),\n",
       "             (20, 10, False): array([ 0.4       , -0.81818182]),\n",
       "             (14, 10, False): array([-0.86206897, -0.49514563]),\n",
       "             (20, 1, False): array([ 0.09803922, -1.        ]),\n",
       "             (13, 7, True): array([-0.25, -1.  ]),\n",
       "             (16, 4, False): array([-0.1, -1. ]),\n",
       "             (20, 8, False): array([ 0.75454545, -0.5       ]),\n",
       "             (16, 10, False): array([-0.62352941, -0.67      ]),\n",
       "             (18, 10, False): array([-0.23794212, -0.40909091]),\n",
       "             (18, 10, True): array([-1.        , -0.25531915]),\n",
       "             (12, 4, False): array([-0.03614458, -0.14285714]),\n",
       "             (19, 3, True): array([0.77777778, 1.        ]),\n",
       "             (17, 1, True): array([-0.5, -1. ]),\n",
       "             (19, 7, False): array([ 0.56666667, -1.        ]),\n",
       "             (13, 7, False): array([-0.56164384, -0.66666667]),\n",
       "             (16, 8, False): array([-0.49450549, -1.        ]),\n",
       "             (18, 3, False): array([ 0.01612903, -0.5       ]),\n",
       "             (20, 9, False): array([ 0.67010309, -1.        ]),\n",
       "             (12, 3, False): array([-0.33333333, -0.125     ]),\n",
       "             (16, 2, False): array([-1.        , -0.43529412]),\n",
       "             (14, 6, False): array([-0.29411765, -0.4       ]),\n",
       "             (18, 9, False): array([ 0.01470588, -1.        ]),\n",
       "             (12, 10, False): array([-0.57142857, -0.57608696]),\n",
       "             (19, 10, False): array([-0.09570957, -0.76923077]),\n",
       "             (21, 5, True): array([0.89130435, 0.66666667]),\n",
       "             (17, 10, False): array([-0.45031056, -0.64705882]),\n",
       "             (17, 10, True): array([-0.64285714, -0.19230769]),\n",
       "             (21, 10, True): array([0.90243902, 0.5       ]),\n",
       "             (21, 10, False): array([ 0.90298507, -1.        ]),\n",
       "             (13, 10, False): array([-0.56666667, -0.38545455]),\n",
       "             (18, 8, False): array([ 0.04444444, -0.81818182]),\n",
       "             (15, 6, False): array([-0.07042254, -0.2       ]),\n",
       "             (15, 7, False): array([-0.44927536, -1.        ]),\n",
       "             (18, 5, False): array([ 0.        , -0.66666667]),\n",
       "             (15, 8, False): array([-0.45454545, -0.55555556]),\n",
       "             (12, 8, False): array([-0.66666667, -0.27536232]),\n",
       "             (15, 10, False): array([-0.53571429, -0.58139535]),\n",
       "             (19, 8, False): array([ 0.69620253, -0.6       ]),\n",
       "             (15, 2, False): array([-0.4368932 , -0.66666667]),\n",
       "             (12, 1, False): array([-0.77419355, -1.        ]),\n",
       "             (16, 9, False): array([-0.43209877, -1.        ]),\n",
       "             (20, 3, False): array([ 0.66336634, -0.33333333]),\n",
       "             (16, 2, True): array([-1.,  0.]),\n",
       "             (17, 3, True): array([-0.30769231, -1.        ]),\n",
       "             (14, 4, False): array([-0.53846154, -0.37878788]),\n",
       "             (19, 1, False): array([-0.10344828, -0.42857143]),\n",
       "             (20, 2, False): array([ 0.50505051, -0.71428571]),\n",
       "             (14, 3, False): array([-0.08235294, -1.        ]),\n",
       "             (17, 3, False): array([ 0.11538462, -0.40909091]),\n",
       "             (14, 7, True): array([-0.5, -1. ]),\n",
       "             (18, 6, False): array([ 0.14035088, -1.        ]),\n",
       "             (16, 7, False): array([-0.5   , -0.4375]),\n",
       "             (18, 7, False): array([ 0.22641509, -0.5       ]),\n",
       "             (20, 6, False): array([ 0.72151899, -1.        ]),\n",
       "             (17, 1, False): array([-0.60655738, -1.        ]),\n",
       "             (15, 5, False): array([-0.13402062, -1.        ]),\n",
       "             (18, 2, False): array([-0.16455696, -1.        ]),\n",
       "             (17, 7, False): array([-0.08333333, -0.44827586]),\n",
       "             (15, 4, False): array([-0.34545455, -0.71428571]),\n",
       "             (13, 2, False): array([-0.42857143, -0.4       ]),\n",
       "             (20, 7, False): array([ 0.79411765, -0.6       ]),\n",
       "             (14, 8, False): array([-0.62962963, -0.51923077]),\n",
       "             (17, 4, False): array([-0.12903226, -1.        ]),\n",
       "             (15, 4, True): array([-0.33333333,  0.6       ]),\n",
       "             (19, 4, False): array([ 0.46666667, -0.5       ]),\n",
       "             (21, 2, True): array([0.91891892, 0.5       ]),\n",
       "             (21, 8, True): array([ 0.86956522, -0.33333333]),\n",
       "             (18, 1, False): array([-0.44736842, -0.78571429]),\n",
       "             (21, 7, False): array([ 0.95833333, -1.        ]),\n",
       "             (21, 3, False): array([0.84615385, 0.        ]),\n",
       "             (17, 2, False): array([-0.17647059, -0.58108108]),\n",
       "             (14, 1, False): array([-0.52631579, -0.46341463]),\n",
       "             (17, 9, False): array([-0.24193548, -0.71428571]),\n",
       "             (12, 6, False): array([ 0.07042254, -0.66666667]),\n",
       "             (15, 1, False): array([-0.83333333, -0.66666667]),\n",
       "             (12, 9, False): array([-0.42857143, -0.32876712]),\n",
       "             (19, 9, False): array([ 0.296875, -1.      ]),\n",
       "             (15, 9, False): array([-0.54666667, -1.        ]),\n",
       "             (21, 1, False): array([ 0.625, -1.   ]),\n",
       "             (16, 10, True): array([-0.33333333, -0.27083333]),\n",
       "             (21, 7, True): array([0.94117647, 0.71428571]),\n",
       "             (13, 9, True): array([-0.2       ,  0.33333333]),\n",
       "             (19, 3, False): array([ 0.30434783, -0.66666667]),\n",
       "             (18, 4, True): array([0.45454545, 0.        ]),\n",
       "             (14, 2, False): array([-0.15151515, -0.33333333]),\n",
       "             (17, 5, False): array([0.03571429, 0.        ]),\n",
       "             (14, 4, True): array([-0.14285714, -1.        ]),\n",
       "             (14, 9, False): array([-0.68      , -0.53191489]),\n",
       "             (21, 9, True): array([1., 0.]),\n",
       "             (12, 7, False): array([-0.43209877, -0.75      ]),\n",
       "             (21, 6, True): array([0.94736842, 0.66666667]),\n",
       "             (16, 1, False): array([-0.71428571, -1.        ]),\n",
       "             (21, 1, True): array([ 0.69444444, -1.        ]),\n",
       "             (20, 5, False): array([ 0.6407767, -1.       ]),\n",
       "             (18, 1, True): array([-0.46666667, -1.        ]),\n",
       "             (20, 3, True): array([ 0.36363636, -1.        ]),\n",
       "             (15, 7, True): array([-0.33333333, -1.        ]),\n",
       "             (19, 2, False): array([ 0.29032258, -0.5       ]),\n",
       "             (13, 3, False): array([-0.28395062, -0.4       ]),\n",
       "             (20, 4, False): array([ 0.74757282, -0.71428571]),\n",
       "             (21, 4, False): array([ 0.80769231, -1.        ]),\n",
       "             (13, 4, False): array([-0.04225352, -0.33333333]),\n",
       "             (19, 6, False): array([ 0.59183673, -1.        ]),\n",
       "             (17, 6, False): array([0.10447761, 0.        ]),\n",
       "             (21, 2, False): array([ 0.82608696, -1.        ]),\n",
       "             (13, 1, False): array([-0.80645161, -0.51111111]),\n",
       "             (16, 1, True): array([-0.75, -1.  ]),\n",
       "             (21, 3, True): array([0.89473684, 0.        ]),\n",
       "             (12, 5, True): array([ 0.33333333, -1.        ]),\n",
       "             (16, 5, False): array([ 0.06451613, -1.        ]),\n",
       "             (16, 6, False): array([-0.09589041, -1.        ]),\n",
       "             (17, 7, True): array([0.1, 0. ]),\n",
       "             (14, 7, False): array([-0.50617284, -0.33333333]),\n",
       "             (14, 10, True): array([-1.        , -0.41666667]),\n",
       "             (19, 10, True): array([-0.5       , -0.14925373]),\n",
       "             (13, 9, False): array([-0.64835165, -1.        ]),\n",
       "             (15, 5, True): array([-0.81818182, -1.        ]),\n",
       "             (18, 5, True): array([-0.6, -1. ]),\n",
       "             (13, 5, False): array([-0.6       , -0.17021277]),\n",
       "             (14, 5, False): array([-0.26732673, -0.6       ]),\n",
       "             (16, 9, True): array([-1.        , -0.36363636]),\n",
       "             (21, 5, False): array([ 0.89285714, -1.        ]),\n",
       "             (15, 2, True): array([-0.27272727, -0.33333333]),\n",
       "             (21, 4, True): array([1.        , 0.33333333]),\n",
       "             (17, 8, False): array([-0.51282051, -0.30555556]),\n",
       "             (13, 6, False): array([-0.05263158, -1.        ]),\n",
       "             (21, 6, False): array([0.8125, 0.    ]),\n",
       "             (16, 5, True): array([-0.5, -1. ]),\n",
       "             (16, 3, True): array([-0.5, -1. ]),\n",
       "             (12, 5, False): array([-0.29411765, -0.12162162]),\n",
       "             (14, 9, True): array([-0.14285714, -1.        ]),\n",
       "             (12, 2, False): array([-0.75     , -0.3956044]),\n",
       "             (19, 7, True): array([0.41666667, 0.        ]),\n",
       "             (13, 8, False): array([-0.55555556, -0.35      ]),\n",
       "             (15, 9, True): array([-1.        ,  0.11111111]),\n",
       "             (13, 2, True): array([-0.14285714, -0.33333333]),\n",
       "             (19, 5, False): array([ 0.60344828, -1.        ]),\n",
       "             (20, 1, True): array([-0.25, -1.  ]),\n",
       "             (20, 2, True): array([0.78571429, 0.        ]),\n",
       "             (19, 5, True): array([0.2, 0. ]),\n",
       "             (13, 1, True): array([-0.25, -1.  ]),\n",
       "             (13, 3, True): array([-1.        , -0.11111111]),\n",
       "             (12, 3, True): array([-0.33333333, -1.        ]),\n",
       "             (18, 4, False): array([-0.8       , -0.50909091]),\n",
       "             (14, 5, True): array([-0.5       , -0.33333333]),\n",
       "             (15, 3, False): array([-0.24705882, -1.        ]),\n",
       "             (15, 10, True): array([-0.55555556, -0.32142857]),\n",
       "             (16, 3, False): array([-0.31428571, -0.47619048]),\n",
       "             (17, 9, True): array([-0.09090909, -1.        ]),\n",
       "             (18, 9, True): array([ 0., -1.]),\n",
       "             (18, 2, True): array([-1.        , -0.29411765]),\n",
       "             (16, 7, True): array([-1.        ,  0.33333333]),\n",
       "             (12, 9, True): array([-1., -1.]),\n",
       "             (21, 8, False): array([ 0.86956522, -1.        ]),\n",
       "             (19, 8, True): array([ 0.88888889, -1.        ]),\n",
       "             (18, 7, True): array([-1.  ,  0.25]),\n",
       "             (20, 7, True): array([0.75, 0.  ]),\n",
       "             (17, 4, True): array([-0.5,  0.2]),\n",
       "             (14, 8, True): array([-1.  , -0.25]),\n",
       "             (20, 10, True): array([ 0.28571429, -0.5       ]),\n",
       "             (15, 8, True): array([-0.14285714,  0.33333333]),\n",
       "             (12, 6, True): array([ 0.2, -1. ]),\n",
       "             (14, 1, True): array([-0.66666667, -0.6       ]),\n",
       "             (19, 2, True): array([ 0.53333333, -1.        ]),\n",
       "             (20, 9, True): array([0.8, 0. ]),\n",
       "             (17, 5, True): array([ 0.11111111, -1.        ]),\n",
       "             (19, 1, True): array([-0.11111111, -0.5       ]),\n",
       "             (21, 9, False): array([ 1., -1.]),\n",
       "             (13, 10, True): array([-1.,  0.]),\n",
       "             (19, 6, True): array([ 0.33333333, -1.        ]),\n",
       "             (15, 6, True): array([-0.2,  0.2]),\n",
       "             (16, 6, True): array([0.2, 0. ]),\n",
       "             (19, 4, True): array([0.66666667, 0.        ]),\n",
       "             (17, 2, True): array([-0.23076923, -1.        ]),\n",
       "             (12, 7, True): array([-0.2,  0. ]),\n",
       "             (20, 4, True): array([0.66666667, 0.        ]),\n",
       "             (14, 6, True): array([-0.33333333, -1.        ]),\n",
       "             (19, 9, True): array([0.21428571, 0.        ]),\n",
       "             (20, 6, True): array([0.33333333, 0.        ]),\n",
       "             (17, 6, True): array([-0.22222222, -1.        ]),\n",
       "             (17, 8, True): array([-0.18181818, -1.        ]),\n",
       "             (13, 5, True): array([ 0., -1.]),\n",
       "             (13, 8, True): array([-0.5,  0.5]),\n",
       "             (16, 8, True): array([-1.,  0.]),\n",
       "             (12, 1, True): array([-1., -1.]),\n",
       "             (13, 4, True): array([0.11111111, 0.        ]),\n",
       "             (12, 4, True): array([-1., -1.]),\n",
       "             (16, 4, True): array([ 0., -1.]),\n",
       "             (15, 1, True): array([-0.8, -1. ]),\n",
       "             (20, 5, True): array([0. , 0.4]),\n",
       "             (14, 3, True): array([-0.33333333,  0.        ]),\n",
       "             (18, 6, True): array([-0.2, -1. ]),\n",
       "             (12, 10, True): array([-0.2,  0.2]),\n",
       "             (15, 3, True): array([-0.2,  1. ]),\n",
       "             (18, 3, True): array([0.375, 0.   ]),\n",
       "             (14, 2, True): array([-0.33333333,  0.16666667]),\n",
       "             (13, 6, True): array([ 0.5, -1. ]),\n",
       "             (12, 2, True): array([-1.,  1.])})"
      ]
     },
     "execution_count": 52,
     "metadata": {},
     "output_type": "execute_result"
    }
   ],
   "source": [
    "Q"
   ]
  },
  {
   "cell_type": "code",
   "execution_count": 53,
   "metadata": {
    "deletable": false,
    "editable": false,
    "nbgrader": {
     "checksum": "9ea50e12589ce430405fa2e92ee0c108",
     "grade": false,
     "grade_id": "cell-e6170d8979ca2a9c",
     "locked": true,
     "schema_version": 1,
     "solution": false
    }
   },
   "outputs": [
    {
     "name": "stderr",
     "output_type": "stream",
     "text": [
      "\n",
      "  0%|          | 0/500000 [00:00<?, ?it/s]\u001b[A\n",
      "  2%|▏         | 8363/500000 [00:01<00:58, 8362.51it/s]\u001b[A\n",
      "  3%|▎         | 16385/500000 [00:02<00:58, 8257.19it/s]\u001b[A\n",
      "  5%|▍         | 24410/500000 [00:03<00:58, 8185.92it/s]\u001b[A\n",
      "  7%|▋         | 32640/500000 [00:04<00:57, 8198.90it/s]\u001b[A\n",
      "  8%|▊         | 41094/500000 [00:05<00:55, 8273.78it/s]\u001b[A\n",
      " 10%|▉         | 49265/500000 [00:06<00:54, 8242.29it/s]\u001b[A\n",
      " 12%|█▏        | 57531/500000 [00:07<00:53, 8249.37it/s]\u001b[A\n",
      " 13%|█▎        | 65727/500000 [00:08<00:52, 8233.22it/s]\u001b[A\n",
      " 15%|█▍        | 73839/500000 [00:09<00:51, 8196.35it/s]\u001b[A\n",
      " 16%|█▋        | 81777/500000 [00:10<00:51, 8116.95it/s]\u001b[A\n",
      " 18%|█▊        | 89713/500000 [00:11<00:50, 8061.79it/s]\u001b[A\n",
      " 20%|█▉        | 97794/500000 [00:12<00:49, 8067.33it/s]\u001b[A\n",
      " 21%|██        | 106046/500000 [00:13<00:48, 8121.73it/s]\u001b[A\n",
      " 23%|██▎       | 114266/500000 [00:14<00:47, 8150.87it/s]\u001b[A\n",
      " 25%|██▍       | 122574/500000 [00:15<00:46, 8197.20it/s]\u001b[A\n",
      " 26%|██▌       | 130734/500000 [00:16<00:45, 8179.66it/s]\u001b[A\n",
      " 28%|██▊       | 138888/500000 [00:17<00:44, 8136.41it/s]\u001b[A\n",
      " 29%|██▉       | 147131/500000 [00:18<00:43, 8167.94it/s]\u001b[A\n",
      " 31%|███       | 155404/500000 [00:19<00:42, 8199.11it/s]\u001b[A\n",
      " 33%|███▎      | 163595/500000 [00:20<00:41, 8165.86it/s]\u001b[A\n",
      " 34%|███▍      | 171758/500000 [00:21<00:40, 8164.84it/s]\u001b[A\n",
      " 36%|███▌      | 179933/500000 [00:22<00:39, 8167.80it/s]\u001b[A\n",
      " 38%|███▊      | 188137/500000 [00:23<00:38, 8178.56it/s]\u001b[A\n",
      " 39%|███▉      | 196314/500000 [00:24<00:37, 8148.31it/s]\u001b[A\n",
      " 41%|████      | 204462/500000 [00:25<00:36, 8123.95it/s]\u001b[A\n",
      " 43%|████▎     | 212625/500000 [00:26<00:35, 8135.55it/s]\u001b[A\n",
      " 44%|████▍     | 220761/500000 [00:27<00:34, 8126.71it/s]\u001b[A\n",
      " 46%|████▌     | 229054/500000 [00:28<00:33, 8175.74it/s]\u001b[A\n",
      " 47%|████▋     | 237231/500000 [00:29<00:32, 8173.10it/s]\u001b[A\n",
      " 49%|████▉     | 245405/500000 [00:30<00:31, 8151.56it/s]\u001b[A\n",
      " 51%|█████     | 253644/500000 [00:31<00:30, 8177.41it/s]\u001b[A\n",
      " 52%|█████▏    | 261822/500000 [00:32<00:29, 8137.58it/s]\u001b[A\n",
      " 54%|█████▍    | 270056/500000 [00:33<00:28, 8166.16it/s]\u001b[A\n",
      " 56%|█████▌    | 278223/500000 [00:34<00:27, 8096.14it/s]\u001b[A\n",
      " 57%|█████▋    | 286503/500000 [00:35<00:26, 8150.26it/s]\u001b[A\n",
      " 59%|█████▉    | 294704/500000 [00:36<00:25, 8165.39it/s]\u001b[A\n",
      " 61%|██████    | 302975/500000 [00:37<00:24, 8196.51it/s]\u001b[A\n",
      " 62%|██████▏   | 311173/500000 [00:38<00:23, 8184.60it/s]\u001b[A\n",
      " 64%|██████▍   | 319359/500000 [00:39<00:22, 8145.54it/s]\u001b[A\n",
      " 66%|██████▌   | 327506/500000 [00:40<00:21, 8092.04it/s]\u001b[A\n",
      " 67%|██████▋   | 335628/500000 [00:41<00:20, 8100.93it/s]\u001b[A\n",
      " 69%|██████▊   | 343747/500000 [00:42<00:19, 8106.34it/s]\u001b[A\n",
      " 70%|███████   | 351921/500000 [00:43<00:18, 8126.32it/s]\u001b[A\n",
      " 72%|███████▏  | 360048/500000 [00:44<00:17, 8095.44it/s]\u001b[A\n",
      " 74%|███████▎  | 368145/500000 [00:45<00:16, 8083.53it/s]\u001b[A\n",
      " 75%|███████▌  | 376230/500000 [00:46<00:15, 8071.35it/s]\u001b[A\n",
      " 77%|███████▋  | 384302/500000 [00:47<00:14, 8056.84it/s]\u001b[A\n",
      " 78%|███████▊  | 392360/500000 [00:48<00:13, 7990.15it/s]\u001b[A\n",
      " 80%|████████  | 400537/500000 [00:49<00:12, 8045.12it/s]\u001b[A\n",
      " 82%|████████▏ | 408611/500000 [00:50<00:11, 8053.65it/s]\u001b[A\n",
      " 83%|████████▎ | 416784/500000 [00:51<00:10, 8088.90it/s]\u001b[A\n",
      " 85%|████████▍ | 424998/500000 [00:52<00:09, 8126.02it/s]\u001b[A\n",
      " 87%|████████▋ | 433126/500000 [00:53<00:08, 8042.69it/s]\u001b[A\n",
      " 88%|████████▊ | 441172/500000 [00:54<00:07, 7964.81it/s]\u001b[A\n",
      " 90%|████████▉ | 449141/500000 [00:55<00:06, 7895.41it/s]\u001b[A\n",
      " 91%|█████████▏| 457041/500000 [00:56<00:05, 7852.80it/s]\u001b[A\n",
      " 93%|█████████▎| 464898/500000 [00:57<00:04, 7803.29it/s]\u001b[A\n",
      " 95%|█████████▍| 472945/500000 [00:58<00:03, 7874.76it/s]\u001b[A\n",
      " 96%|█████████▌| 481016/500000 [00:59<00:02, 7932.51it/s]\u001b[A\n",
      " 98%|█████████▊| 488978/500000 [01:00<00:01, 7941.21it/s]\u001b[A\n",
      " 99%|█████████▉| 497171/500000 [01:01<00:00, 8014.92it/s]\u001b[A\n",
      "100%|██████████| 500000/500000 [01:01<00:00, 8100.13it/s]\u001b[A"
     ]
    },
    {
     "name": "stdout",
     "output_type": "stream",
     "text": [
      "CPU times: user 1min 1s, sys: 32.4 ms, total: 1min 1s\n",
      "Wall time: 1min 1s\n"
     ]
    }
   ],
   "source": [
    "%%time\n",
    "Q, policy = mc_control_epsilon_greedy(env, num_episodes=500000, epsilon=0.1)"
   ]
  },
  {
   "cell_type": "markdown",
   "metadata": {
    "deletable": false,
    "editable": false,
    "nbgrader": {
     "checksum": "94d3f0aecbe1b5ebfed94e7b1379f617",
     "grade": false,
     "grade_id": "cell-449e36eb98369942",
     "locked": true,
     "schema_version": 1,
     "solution": false
    }
   },
   "source": [
    "How can you obtain the (V-)value function from the Q-value function? Plot the (V-)value function that is the result of 500K iterations. Additionally, visualize the greedy policy similar to Figure 5.2 in the book. Use a white square for hitting, black for sticking."
   ]
  },
  {
   "cell_type": "code",
   "execution_count": null,
   "metadata": {
    "deletable": false,
    "nbgrader": {
     "checksum": "ef932ff88d976ffefc0338822d7d2af9",
     "grade": true,
     "grade_id": "cell-7d797248a3b132f5",
     "locked": false,
     "points": 2,
     "schema_version": 1,
     "solution": true
    }
   },
   "outputs": [],
   "source": [
    "# YOUR CODE HERE\n",
    "raise NotImplementedError()"
   ]
  },
  {
   "cell_type": "code",
   "execution_count": null,
   "metadata": {},
   "outputs": [],
   "source": []
  }
 ],
 "metadata": {
  "kernelspec": {
   "display_name": "Python 3",
   "language": "python",
   "name": "python3"
  },
  "language_info": {
   "codemirror_mode": {
    "name": "ipython",
    "version": 3
   },
   "file_extension": ".py",
   "mimetype": "text/x-python",
   "name": "python",
   "nbconvert_exporter": "python",
   "pygments_lexer": "ipython3",
   "version": "3.7.4"
  }
 },
 "nbformat": 4,
 "nbformat_minor": 2
}
